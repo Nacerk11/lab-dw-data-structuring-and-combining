{
 "cells": [
  {
   "cell_type": "code",
   "execution_count": 1,
   "metadata": {},
   "outputs": [
    {
     "name": "stdout",
     "output_type": "stream",
     "text": [
      "Combined & cleaned data shape (Option 1): (0, 13)\n",
      "Combined cleaned data shape (Option 2): (9010, 12)\n"
     ]
    },
    {
     "name": "stderr",
     "output_type": "stream",
     "text": [
      "/var/folders/rz/y5w2t9n931jd5fypn89ymc580000gn/T/ipykernel_1705/741414693.py:18: FutureWarning: DataFrame.applymap has been deprecated. Use DataFrame.map instead.\n",
      "  df = df.applymap(lambda x: x.strip() if isinstance(x, str) else x)\n",
      "/var/folders/rz/y5w2t9n931jd5fypn89ymc580000gn/T/ipykernel_1705/741414693.py:18: FutureWarning: DataFrame.applymap has been deprecated. Use DataFrame.map instead.\n",
      "  df = df.applymap(lambda x: x.strip() if isinstance(x, str) else x)\n",
      "/var/folders/rz/y5w2t9n931jd5fypn89ymc580000gn/T/ipykernel_1705/741414693.py:18: FutureWarning: DataFrame.applymap has been deprecated. Use DataFrame.map instead.\n",
      "  df = df.applymap(lambda x: x.strip() if isinstance(x, str) else x)\n",
      "/var/folders/rz/y5w2t9n931jd5fypn89ymc580000gn/T/ipykernel_1705/741414693.py:18: FutureWarning: DataFrame.applymap has been deprecated. Use DataFrame.map instead.\n",
      "  df = df.applymap(lambda x: x.strip() if isinstance(x, str) else x)\n"
     ]
    }
   ],
   "source": [
    "# Import necessary libraries\n",
    "import pandas as pd\n",
    "\n",
    "# Load the three datasets\n",
    "url_file1 = \"https://raw.githubusercontent.com/data-bootcamp-v4/data/main/file1.csv\"\n",
    "url_file2 = \"https://raw.githubusercontent.com/data-bootcamp-v4/data/main/file2.csv\"\n",
    "url_file3 = \"https://raw.githubusercontent.com/data-bootcamp-v4/data/main/file3.csv\"\n",
    "\n",
    "df1 = pd.read_csv(url_file1)\n",
    "df2 = pd.read_csv(url_file2)\n",
    "df3 = pd.read_csv(url_file3)\n",
    "\n",
    "# Define a cleaning function\n",
    "def clean_data(df):\n",
    "    # 1. Strip whitespace from column names and convert to lowercase\n",
    "    df.columns = df.columns.str.strip().str.lower()\n",
    "    # 2. Remove any leading/trailing whitespace from string values\n",
    "    df = df.applymap(lambda x: x.strip() if isinstance(x, str) else x)\n",
    "    # 3. Drop duplicate rows\n",
    "    df = df.drop_duplicates()\n",
    "    # 4. Drop rows with missing critical values \n",
    "    df = df.dropna()\n",
    "    return df\n",
    "\n",
    "# Option 1: Combine first then clean the combined dataset\n",
    "df_combined = pd.concat([df1, df2, df3], ignore_index=True)\n",
    "df_combined_clean = clean_data(df_combined)\n",
    "print(\"Combined & cleaned data shape (Option 1):\", df_combined_clean.shape)\n",
    "\n",
    "# Option 2: Clean each file separately and then concatenate\n",
    "df1_clean = clean_data(df1)\n",
    "df2_clean = clean_data(df2)\n",
    "df3_clean = clean_data(df3)\n",
    "df_all = pd.concat([df1_clean, df2_clean, df3_clean], ignore_index=True)\n",
    "print(\"Combined cleaned data shape (Option 2):\", df_all.shape)\n"
   ]
  },
  {
   "cell_type": "code",
   "execution_count": 6,
   "metadata": {},
   "outputs": [
    {
     "name": "stdout",
     "output_type": "stream",
     "text": [
      "Total Income by Sales Channel:\n",
      "                  income\n",
      "sales_channel           \n",
      "Agent          152490152\n",
      "Branch         113775608\n",
      "Call Center     81055004\n",
      "Web             62200103\n"
     ]
    }
   ],
   "source": [
    "# Challenge 2\n",
    "# Load the marketing customer data\n",
    "\n",
    "url_marketing = \"https://raw.githubusercontent.com/data-bootcamp-v4/data/main/marketing_customer_analysis_clean.csv\"\n",
    "df_marketing = pd.read_csv(url_marketing)\n",
    "df_marketing.head()\n",
    "# Create a pivot table for total revenue by sales channel\n",
    "pivot_revenue = pd.pivot_table(\n",
    "    df_marketing,\n",
    "    values='income',\n",
    "    index='sales_channel',\n",
    "    aggfunc='sum'\n",
    ").round(2)\n",
    "\n",
    "print(\"Total Income by Sales Channel:\")\n",
    "print(pivot_revenue)\n",
    "\n",
    "# Analysis:\n",
    "# Review the pivot table output to determine which channel (e.g., branch, call center, web, or mail) generated the highest total revenue.\n"
   ]
  },
  {
   "cell_type": "code",
   "execution_count": 8,
   "metadata": {},
   "outputs": [
    {
     "name": "stdout",
     "output_type": "stream",
     "text": [
      "Average Customer Lifetime Value by Gender and Education:\n",
      "education  Bachelor  College   Doctor  High School or Below   Master\n",
      "gender                                                              \n",
      "F           7874.27  7748.82  7328.51               8675.22  8157.05\n",
      "M           7703.60  8052.46  7415.33               8149.69  8168.83\n"
     ]
    }
   ],
   "source": [
    "# Create a pivot table for average customer lifetime value by gender and education\n",
    "pivot_ltv = pd.pivot_table(\n",
    "    df_marketing,\n",
    "    values='customer_lifetime_value',\n",
    "    index='gender',\n",
    "    columns='education',\n",
    "    aggfunc='mean'\n",
    ").round(2)\n",
    "\n",
    "print(\"Average Customer Lifetime Value by Gender and Education:\")\n",
    "print(pivot_ltv)\n"
   ]
  },
  {
   "cell_type": "code",
   "execution_count": null,
   "metadata": {},
   "outputs": [],
   "source": []
  }
 ],
 "metadata": {
  "kernelspec": {
   "display_name": "base",
   "language": "python",
   "name": "python3"
  },
  "language_info": {
   "codemirror_mode": {
    "name": "ipython",
    "version": 3
   },
   "file_extension": ".py",
   "mimetype": "text/x-python",
   "name": "python",
   "nbconvert_exporter": "python",
   "pygments_lexer": "ipython3",
   "version": "3.12.7"
  }
 },
 "nbformat": 4,
 "nbformat_minor": 2
}
